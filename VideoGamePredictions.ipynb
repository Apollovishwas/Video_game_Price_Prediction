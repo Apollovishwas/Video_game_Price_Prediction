{
 "cells": [
  {
   "cell_type": "code",
   "execution_count": 34,
   "id": "fae0945b",
   "metadata": {},
   "outputs": [],
   "source": [
    "import pandas as pd\n",
    "RUN_NAME = 'run 2 with 5 nodes'"
   ]
  },
  {
   "cell_type": "code",
   "execution_count": 4,
   "id": "23fad898",
   "metadata": {},
   "outputs": [],
   "source": [
    "training_data_df = pd.read_csv(\"sales_data_training.csv\") \n",
    "test_data_df =  pd.read_csv(\"sales_data_test.csv\") "
   ]
  },
  {
   "cell_type": "code",
   "execution_count": 5,
   "id": "9d8b470c",
   "metadata": {},
   "outputs": [],
   "source": [
    "from sklearn.preprocessing import MinMaxScaler\n",
    "scaler = MinMaxScaler(feature_range=(0,1))\n",
    "scaled_training = scaler.fit_transform(training_data_df)\n",
    "scaled_testing = scaler.transform(test_data_df)"
   ]
  },
  {
   "cell_type": "code",
   "execution_count": 7,
   "id": "0dd6992d",
   "metadata": {},
   "outputs": [],
   "source": [
    "scaled_training_df = pd.DataFrame(scaled_training, columns = training_data_df.columns)\n",
    "scaled_testing_df = pd.DataFrame(scaled_testing, columns = test_data_df.columns)"
   ]
  },
  {
   "cell_type": "code",
   "execution_count": 8,
   "id": "300ea8c8",
   "metadata": {},
   "outputs": [],
   "source": [
    "scaled_training_df.to_csv(\"sales_data_training_scaled.csv\", index=False)\n",
    "scaled_training_df.to_csv(\"sales_data_testing_scaled.csv\", index=False)\n"
   ]
  },
  {
   "cell_type": "code",
   "execution_count": 35,
   "id": "247e4a23",
   "metadata": {},
   "outputs": [],
   "source": [
    "#model\n",
    "training_data_df = pd.read_csv(\"sales_data_training_scaled.csv\")\n",
    "x = training_data_df.drop('total_earnings', axis=1).values\n",
    "y=training_data_df[['total_earnings']].values\n",
    "\n",
    "from keras.models import Sequential \n",
    "from keras.layers import *\n",
    "model = Sequential()\n",
    "model.add(Dense(5, input_dim=9, activation='relu', name=\"input_layer\"))\n",
    "model.add(Dense(100, activation='relu', name=\"HL1\"))\n",
    "model.add(Dense(50, activation='relu', name = \"HL2\"))\n",
    "\n",
    "model.add(Dense(1, activation='linear' ,name = \"Out_Layer\"))\n",
    "\n",
    "model.compile(loss='mean_squared_error', optimizer='adam')"
   ]
  },
  {
   "cell_type": "code",
   "execution_count": 36,
   "id": "a0df9d19",
   "metadata": {},
   "outputs": [],
   "source": [
    "#tensorboard\n",
    "import keras\n",
    "logger = keras.callbacks.TensorBoard(log_dir='logs/{}'.format(RUN_NAME), write_graph=True, histogram_freq=5)\n"
   ]
  },
  {
   "cell_type": "code",
   "execution_count": 37,
   "id": "1c18c937",
   "metadata": {},
   "outputs": [
    {
     "name": "stdout",
     "output_type": "stream",
     "text": [
      "Epoch 1/50\n",
      " 2/32 [>.............................] - ETA: 4s - loss: 0.1827WARNING:tensorflow:Callbacks method `on_train_batch_end` is slow compared to the batch time (batch time: 0.0010s vs `on_train_batch_end` time: 0.2960s). Check your callbacks.\n",
      "32/32 [==============================] - 0s 11ms/step - loss: 0.0526\n",
      "Epoch 2/50\n",
      "32/32 [==============================] - 0s 1ms/step - loss: 0.0227\n",
      "Epoch 3/50\n",
      "32/32 [==============================] - 0s 984us/step - loss: 0.0154\n",
      "Epoch 4/50\n",
      "32/32 [==============================] - 0s 1ms/step - loss: 0.0114\n",
      "Epoch 5/50\n",
      "32/32 [==============================] - 0s 1ms/step - loss: 0.0086\n",
      "Epoch 6/50\n",
      "32/32 [==============================] - 0s 1ms/step - loss: 0.0070\n",
      "Epoch 7/50\n",
      "32/32 [==============================] - 0s 1ms/step - loss: 0.0053\n",
      "Epoch 8/50\n",
      "32/32 [==============================] - 0s 1ms/step - loss: 0.0042\n",
      "Epoch 9/50\n",
      "32/32 [==============================] - 0s 984us/step - loss: 0.0034\n",
      "Epoch 10/50\n",
      "32/32 [==============================] - 0s 938us/step - loss: 0.0028\n",
      "Epoch 11/50\n",
      "32/32 [==============================] - 0s 1ms/step - loss: 0.0022\n",
      "Epoch 12/50\n",
      "32/32 [==============================] - 0s 953us/step - loss: 0.0018\n",
      "Epoch 13/50\n",
      "32/32 [==============================] - 0s 953us/step - loss: 0.0015\n",
      "Epoch 14/50\n",
      "32/32 [==============================] - 0s 985us/step - loss: 0.0013\n",
      "Epoch 15/50\n",
      "32/32 [==============================] - 0s 969us/step - loss: 0.0011\n",
      "Epoch 16/50\n",
      "32/32 [==============================] - 0s 1ms/step - loss: 9.1818e-04\n",
      "Epoch 17/50\n",
      "32/32 [==============================] - 0s 953us/step - loss: 8.1679e-04\n",
      "Epoch 18/50\n",
      "32/32 [==============================] - 0s 969us/step - loss: 7.2585e-04\n",
      "Epoch 19/50\n",
      "32/32 [==============================] - 0s 969us/step - loss: 6.7037e-04\n",
      "Epoch 20/50\n",
      "32/32 [==============================] - 0s 969us/step - loss: 6.0312e-04\n",
      "Epoch 21/50\n",
      "32/32 [==============================] - 0s 1ms/step - loss: 5.9163e-04\n",
      "Epoch 22/50\n",
      "32/32 [==============================] - 0s 954us/step - loss: 5.0642e-04\n",
      "Epoch 23/50\n",
      "32/32 [==============================] - 0s 906us/step - loss: 4.7150e-04\n",
      "Epoch 24/50\n",
      "32/32 [==============================] - 0s 953us/step - loss: 4.1586e-04\n",
      "Epoch 25/50\n",
      "32/32 [==============================] - 0s 953us/step - loss: 3.7853e-04\n",
      "Epoch 26/50\n",
      "32/32 [==============================] - 0s 1ms/step - loss: 3.6768e-04\n",
      "Epoch 27/50\n",
      "32/32 [==============================] - 0s 953us/step - loss: 3.6901e-04\n",
      "Epoch 28/50\n",
      "32/32 [==============================] - 0s 953us/step - loss: 3.5993e-04\n",
      "Epoch 29/50\n",
      "32/32 [==============================] - 0s 1ms/step - loss: 3.2050e-04\n",
      "Epoch 30/50\n",
      "32/32 [==============================] - 0s 923us/step - loss: 3.0123e-04\n",
      "Epoch 31/50\n",
      "32/32 [==============================] - 0s 1ms/step - loss: 2.8706e-04\n",
      "Epoch 32/50\n",
      "32/32 [==============================] - 0s 1ms/step - loss: 2.8252e-04\n",
      "Epoch 33/50\n",
      "32/32 [==============================] - 0s 984us/step - loss: 2.6895e-04\n",
      "Epoch 34/50\n",
      "32/32 [==============================] - 0s 953us/step - loss: 2.5019e-04\n",
      "Epoch 35/50\n",
      "32/32 [==============================] - 0s 969us/step - loss: 2.4481e-04\n",
      "Epoch 36/50\n",
      "32/32 [==============================] - 0s 1ms/step - loss: 2.1826e-04\n",
      "Epoch 37/50\n",
      "32/32 [==============================] - 0s 922us/step - loss: 2.6103e-04\n",
      "Epoch 38/50\n",
      "32/32 [==============================] - 0s 969us/step - loss: 2.0801e-04\n",
      "Epoch 39/50\n",
      "32/32 [==============================] - 0s 953us/step - loss: 1.8508e-04\n",
      "Epoch 40/50\n",
      "32/32 [==============================] - 0s 938us/step - loss: 1.9199e-04\n",
      "Epoch 41/50\n",
      "32/32 [==============================] - 0s 1ms/step - loss: 1.9492e-04\n",
      "Epoch 42/50\n",
      "32/32 [==============================] - 0s 954us/step - loss: 1.7154e-04\n",
      "Epoch 43/50\n",
      "32/32 [==============================] - 0s 938us/step - loss: 1.5533e-04\n",
      "Epoch 44/50\n",
      "32/32 [==============================] - 0s 953us/step - loss: 1.4770e-04\n",
      "Epoch 45/50\n",
      "32/32 [==============================] - 0s 938us/step - loss: 1.5103e-04\n",
      "Epoch 46/50\n",
      "32/32 [==============================] - 0s 1ms/step - loss: 1.4996e-04\n",
      "Epoch 47/50\n",
      "32/32 [==============================] - 0s 1000us/step - loss: 1.5562e-04\n",
      "Epoch 48/50\n",
      "32/32 [==============================] - 0s 1ms/step - loss: 1.6377e-04\n",
      "Epoch 49/50\n",
      "32/32 [==============================] - 0s 937us/step - loss: 1.4031e-04\n",
      "Epoch 50/50\n",
      "32/32 [==============================] - 0s 969us/step - loss: 1.2801e-04\n"
     ]
    },
    {
     "data": {
      "text/plain": [
       "<tensorflow.python.keras.callbacks.History at 0x172c555d4c8>"
      ]
     },
     "execution_count": 37,
     "metadata": {},
     "output_type": "execute_result"
    }
   ],
   "source": [
    "model.fit(x,y, epochs=50,shuffle=True, verbose=1, callbacks =[logger])\n"
   ]
  },
  {
   "cell_type": "code",
   "execution_count": 15,
   "id": "96a84584",
   "metadata": {},
   "outputs": [],
   "source": [
    "X_test = test_data_df.drop('total_earnings', axis=1).values\n",
    "Y_test = test_data_df[['total_earnings']].values\n",
    "test_error_rate = model.evaluate(X_test, Y_test, verbose=0)\n"
   ]
  },
  {
   "cell_type": "code",
   "execution_count": 18,
   "id": "110619c9",
   "metadata": {},
   "outputs": [
    {
     "name": "stdout",
     "output_type": "stream",
     "text": [
      "270240.8671456481\n"
     ]
    }
   ],
   "source": [
    "X_pred = pd.read_csv('proposed_new_product.csv').values\n",
    "\n",
    "predictions = model.predict(X_pred)\n",
    "predictions = predictions[0][0]\n",
    "\n",
    "predictions = predictions + 0.1159\n",
    "predictions = predictions / 0.0000036968\n",
    "\n",
    "print(format(predictions))"
   ]
  },
  {
   "cell_type": "code",
   "execution_count": 19,
   "id": "664f4ee4",
   "metadata": {},
   "outputs": [],
   "source": [
    "#saving models\n",
    "model.save('trained_model.h5')"
   ]
  },
  {
   "cell_type": "code",
   "execution_count": 21,
   "id": "2cbe25bf",
   "metadata": {},
   "outputs": [
    {
     "name": "stdout",
     "output_type": "stream",
     "text": [
      "[[270240.88]]\n"
     ]
    }
   ],
   "source": [
    "from keras.models import load_model\n",
    "model_two = load_model('trained_model.h5')\n",
    "pred = model_two.predict(X_pred)\n",
    "pred = pred + 0.1159\n",
    "pred = pred / 0.0000036968\n",
    "\n",
    "print(format(pred))"
   ]
  },
  {
   "cell_type": "code",
   "execution_count": null,
   "id": "0ea114bf",
   "metadata": {},
   "outputs": [],
   "source": [
    "#exporting model to google cloud.\n",
    "model_builder = tf.saved_model.builder.SavedModelBuilder(\"exported_model\")\n",
    "\n",
    "inputs = {\n",
    "    'input': tf.saved_model.utils.build_tensor_info(model.input)\n",
    "}\n",
    "outputs = {\n",
    "    'earnings': tf.saved_model.utils.build_tensor_info(model.output)\n",
    "}\n",
    "\n",
    "signature_def = tf.saved_model.signature_def_utils.build_signature_def(\n",
    "    inputs=inputs,\n",
    "    outputs=outputs,\n",
    "    method_name=tf.saved_model.signature_constants.PREDICT_METHOD_NAME\n",
    ")\n",
    "\n",
    "model_builder.add_meta_graph_and_variables(\n",
    "    K.get_session(),\n",
    "    tags=[tf.saved_model.tag_constants.SERVING],\n",
    "    signature_def_map={\n",
    "        tf.saved_model.signature_constants.DEFAULT_SERVING_SIGNATURE_DEF_KEY: signature_def\n",
    "    }\n",
    ")\n",
    "\n",
    "model_builder.save()\n"
   ]
  }
 ],
 "metadata": {
  "kernelspec": {
   "display_name": "Python 3 (ipykernel)",
   "language": "python",
   "name": "python3"
  },
  "language_info": {
   "codemirror_mode": {
    "name": "ipython",
    "version": 3
   },
   "file_extension": ".py",
   "mimetype": "text/x-python",
   "name": "python",
   "nbconvert_exporter": "python",
   "pygments_lexer": "ipython3",
   "version": "3.7.13"
  }
 },
 "nbformat": 4,
 "nbformat_minor": 5
}
